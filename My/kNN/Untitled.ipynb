{
 "cells": [
  {
   "cell_type": "code",
   "execution_count": 1,
   "metadata": {
    "collapsed": false
   },
   "outputs": [
    {
     "data": {
      "text/plain": [
       "\n"
      ]
     },
     "execution_count": 1,
     "metadata": {},
     "output_type": "execute_result"
    }
   ],
   "source": [
    "dofile('getNLTable.lua')\n"
   ]
  },
  {
   "cell_type": "code",
   "execution_count": 9,
   "metadata": {
    "collapsed": false
   },
   "outputs": [
    {
     "data": {
      "text/plain": [
       "type1: 1080\t\n",
       "type2: 1080\t\n",
       "type3: 1080\t\n",
       "type4: 1080\t\n",
       "total: 4320\t\n"
      ]
     },
     "execution_count": 9,
     "metadata": {},
     "output_type": "execute_result"
    },
    {
     "data": {
      "text/plain": [
       "type1: 10535\t\n",
       "type2: 5642\t\n",
       "type3: 4012\t\n",
       "type4: 2734\t\n",
       "total: 22923\t\n"
      ]
     },
     "execution_count": 9,
     "metadata": {},
     "output_type": "execute_result"
    }
   ],
   "source": [
    "n_tr,l_tr = getNLTable('/media/ljm/Data/Experiments/config1/train_7_12_10_1080.txt')\n",
    "n_te,l_te = getNLTable('/media/ljm/Data/Experiments/config1/test_7_12.txt')"
   ]
  },
  {
   "cell_type": "code",
   "execution_count": 10,
   "metadata": {
    "collapsed": false
   },
   "outputs": [
    {
     "data": {
      "text/plain": [
       "\n"
      ]
     },
     "execution_count": 10,
     "metadata": {},
     "output_type": "execute_result"
    }
   ],
   "source": [
    "dofile('setPathes.lua')"
   ]
  },
  {
   "cell_type": "code",
   "execution_count": 12,
   "metadata": {
    "collapsed": false
   },
   "outputs": [],
   "source": [
    "trainFeaturesFolder = featuresPathRoot .. 'train_7_12' .. '/'\n",
    "testFeaturesFolder = featuresPathRoot .. 'test_7_12' .. '/'"
   ]
  },
  {
   "cell_type": "code",
   "execution_count": 20,
   "metadata": {
    "collapsed": false
   },
   "outputs": [
    {
     "ename": "[string \"local f = function() return require('mattorch...\"]:1: loop or previous error loading module 'mattorch'\nstack traceback:\n\t[C]: in function 'f'\n\t[string \"local f = function() return require('mattorch...\"]:1: in main chunk\n\t[C]: in function 'xpcall'\n\t/home/ljm/torch/install/share/lua/5.1/itorch/main.lua:177: in function </home/ljm/torch/install/share/lua/5.1/itorch/main.lua:143>\n\t/home/ljm/torch/install/share/lua/5.1/lzmq/poller.lua:75: in function 'poll'\n\t/home/ljm/torch/install/share/lua/5.1/lzmq/impl/loop.lua:307: in function 'poll'\n\t/home/ljm/torch/install/share/lua/5.1/lzmq/impl/loop.lua:325: in function 'sleep_ex'\n\t/home/ljm/torch/install/share/lua/5.1/lzmq/impl/loop.lua:370: in function 'start'\n\t/home/ljm/torch/install/share/lua/5.1/itorch/main.lua:344: in main chunk\n\t[C]: in function 'require'\n\t[string \"arg={'/home/ljm/.ipython/profile_default/secu...\"]:1: in main chunk",
     "evalue": "",
     "output_type": "error",
     "traceback": [
      "[string \"local f = function() return require('mattorch...\"]:1: loop or previous error loading module 'mattorch'\nstack traceback:\n\t[C]: in function 'f'\n\t[string \"local f = function() return require('mattorch...\"]:1: in main chunk\n\t[C]: in function 'xpcall'\n\t/home/ljm/torch/install/share/lua/5.1/itorch/main.lua:177: in function </home/ljm/torch/install/share/lua/5.1/itorch/main.lua:143>\n\t/home/ljm/torch/install/share/lua/5.1/lzmq/poller.lua:75: in function 'poll'\n\t/home/ljm/torch/install/share/lua/5.1/lzmq/impl/loop.lua:307: in function 'poll'\n\t/home/ljm/torch/install/share/lua/5.1/lzmq/impl/loop.lua:325: in function 'sleep_ex'\n\t/home/ljm/torch/install/share/lua/5.1/lzmq/impl/loop.lua:370: in function 'start'\n\t/home/ljm/torch/install/share/lua/5.1/itorch/main.lua:344: in main chunk\n\t[C]: in function 'require'\n\t[string \"arg={'/home/ljm/.ipython/profile_default/secu...\"]:1: in main chunk"
     ]
    }
   ],
   "source": [
    "require('mattorch')"
   ]
  },
  {
   "cell_type": "code",
   "execution_count": null,
   "metadata": {
    "collapsed": true
   },
   "outputs": [],
   "source": []
  }
 ],
 "metadata": {
  "kernelspec": {
   "display_name": "iTorch",
   "language": "lua",
   "name": "itorch"
  },
  "language_info": {
   "name": "lua",
   "version": "20100"
  }
 },
 "nbformat": 4,
 "nbformat_minor": 0
}

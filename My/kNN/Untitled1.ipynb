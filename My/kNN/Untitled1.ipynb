{
 "cells": [
  {
   "cell_type": "code",
   "execution_count": 1,
   "metadata": {
    "collapsed": false
   },
   "outputs": [
    {
     "ename": "error loading module 'libmattorch' from file '/home/ljm/torch/install/lib/lua/5.1/libmattorch.so':\n\t/usr/local/MATLAB/R2014b/bin/glnxa64/libicuio.so.52: undefined symbol: _ZN6icu_5213UnicodeString9doReplaceEiiPKDsii\nstack traceback:\n\t[C]: at 0x7f6952466ff0\n\t[C]: in function 'require'\n\t/home/ljm/torch/install/share/lua/5.1/mattorch/init.lua:35: in main chunk\n\t[C]: in function 'f'\n\t[string \"local f = function() return require('mattorch...\"]:1: in main chunk\n\t[C]: in function 'xpcall'\n\t/home/ljm/torch/install/share/lua/5.1/itorch/main.lua:177: in function </home/ljm/torch/install/share/lua/5.1/itorch/main.lua:143>\n\t/home/ljm/torch/install/share/lua/5.1/lzmq/poller.lua:75: in function 'poll'\n\t/home/ljm/torch/install/share/lua/5.1/lzmq/impl/loop.lua:307: in function 'poll'\n\t/home/ljm/torch/install/share/lua/5.1/lzmq/impl/loop.lua:325: in function 'sleep_ex'\n\t/home/ljm/torch/install/share/lua/5.1/lzmq/impl/loop.lua:370: in function 'start'\n\t/home/ljm/torch/install/share/lua/5.1/itorch/main.lua:344: in main chunk\n\t[C]: in function 'require'\n\t[string \"arg={'/home/ljm/.ipython/profile_default/secu...\"]:1: in main chunk",
     "evalue": "",
     "output_type": "error",
     "traceback": [
      "error loading module 'libmattorch' from file '/home/ljm/torch/install/lib/lua/5.1/libmattorch.so':\n\t/usr/local/MATLAB/R2014b/bin/glnxa64/libicuio.so.52: undefined symbol: _ZN6icu_5213UnicodeString9doReplaceEiiPKDsii\nstack traceback:\n\t[C]: at 0x7f6952466ff0\n\t[C]: in function 'require'\n\t/home/ljm/torch/install/share/lua/5.1/mattorch/init.lua:35: in main chunk\n\t[C]: in function 'f'\n\t[string \"local f = function() return require('mattorch...\"]:1: in main chunk\n\t[C]: in function 'xpcall'\n\t/home/ljm/torch/install/share/lua/5.1/itorch/main.lua:177: in function </home/ljm/torch/install/share/lua/5.1/itorch/main.lua:143>\n\t/home/ljm/torch/install/share/lua/5.1/lzmq/poller.lua:75: in function 'poll'\n\t/home/ljm/torch/install/share/lua/5.1/lzmq/impl/loop.lua:307: in function 'poll'\n\t/home/ljm/torch/install/share/lua/5.1/lzmq/impl/loop.lua:325: in function 'sleep_ex'\n\t/home/ljm/torch/install/share/lua/5.1/lzmq/impl/loop.lua:370: in function 'start'\n\t/home/ljm/torch/install/share/lua/5.1/itorch/main.lua:344: in main chunk\n\t[C]: in function 'require'\n\t[string \"arg={'/home/ljm/.ipython/profile_default/secu...\"]:1: in main chunk"
     ]
    }
   ],
   "source": [
    "require('mattorch')"
   ]
  },
  {
   "cell_type": "code",
   "execution_count": null,
   "metadata": {
    "collapsed": true
   },
   "outputs": [],
   "source": []
  }
 ],
 "metadata": {
  "kernelspec": {
   "display_name": "iTorch",
   "language": "lua",
   "name": "itorch"
  },
  "language_info": {
   "name": "lua",
   "version": "20100"
  }
 },
 "nbformat": 4,
 "nbformat_minor": 0
}

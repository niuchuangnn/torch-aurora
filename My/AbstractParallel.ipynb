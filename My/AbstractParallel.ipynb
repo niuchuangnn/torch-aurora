{
 "metadata": {
  "language": "lua",
  "name": "",
  "signature": "sha256:5914aacddb1fd0838f6616aca64e8e9631de8bfceae34f0ddb98b2b86f85a31c"
 },
 "nbformat": 3,
 "nbformat_minor": 0,
 "worksheets": [
  {
   "cells": [
    {
     "cell_type": "code",
     "collapsed": false,
     "input": [
      "-- From Facebook\n",
      "\n",
      "require('cutorch')\n",
      "require('nn')\n",
      "\n",
      "local withDevice = cutorch.withDevice\n",
      "\n",
      "local gpu_local_copy_buffers = {}\n",
      "\n",
      "--[[\n",
      "`nn.AbstractParallel` is the base class for modules controlling\n",
      "data/model-parallel behaviour in Torch.\n",
      "\n",
      "The key concept is that data/model-parallelism _splits_ along a\n",
      "dimension, and this class controls the distribution of input and\n",
      "merging of output along this dimension.\n",
      "\n",
      "To extend this class, override `_distributeInput` as appropriate.\n",
      "\n",
      "See `nn.DataParallel` and `nn.ModelParallel` for examples of usage.\n",
      "]]\n",
      "\n",
      "local AbstractParallel, parent = torch.class('nn.AbstractParallel',\n",
      "                                             'nn.Container')\n",
      "\n",
      "function AbstractParallel:__init(dimension)\n",
      "    if not dimension then\n",
      "        error \"must specify a dimension!\"\n",
      "    end\n",
      "    parent.__init(self)\n",
      "    self.modules = {}\n",
      "    self.gpu_assignments = {}\n",
      "    self.size = torch.LongStorage()\n",
      "    self.dimension = dimension\n",
      "    self.container_gpuid = cutorch.getDevice()\n",
      "\n",
      "    self.input_gpu = {}  -- inputs for each gpu\n",
      "    self.gradOutput_gpu = {} -- inputs for each gpu\n",
      "    self.gradInput_gpu = {} -- gradInput for each gpu\n",
      "end\n",
      "\n",
      "function AbstractParallel:_freeCaches()\n",
      "    self.input_gpu = {}\n",
      "    self.gradOutput_gpu = {}\n",
      "    self.gradInput_gpu = {}\n",
      "end"
     ],
     "language": "python",
     "metadata": {},
     "outputs": [],
     "prompt_number": 3
    },
    {
     "cell_type": "code",
     "collapsed": false,
     "input": [],
     "language": "python",
     "metadata": {},
     "outputs": []
    }
   ],
   "metadata": {}
  }
 ]
}